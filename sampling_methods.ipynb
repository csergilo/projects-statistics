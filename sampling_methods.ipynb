{
 "cells": [
  {
   "cell_type": "markdown",
   "id": "dce520da",
   "metadata": {},
   "source": [
    "# Different probabilistic sampling methods"
   ]
  },
  {
   "cell_type": "markdown",
   "id": "41ff1bc4",
   "metadata": {},
   "source": [
    "#### By Carolina Lopes"
   ]
  },
  {
   "cell_type": "markdown",
   "id": "3d1ed0dc",
   "metadata": {},
   "source": [
    "Modified and adapted from Udemy course 'Estatística para Ciência de Dados e Machine Learning'\n",
    "\n",
    "Link: https://www.udemy.com/course/estatistica-para-ciencia-de-dados-machine-learning/"
   ]
  },
  {
   "cell_type": "markdown",
   "id": "050859b1",
   "metadata": {},
   "source": [
    "### Loading python libraries"
   ]
  },
  {
   "cell_type": "code",
   "execution_count": null,
   "id": "55b4632a",
   "metadata": {},
   "outputs": [],
   "source": [
    "import pandas as pd\n",
    "import numpy as np\n",
    "import random\n",
    "from sklearn.model_selection import StratifiedShuffleSplit"
   ]
  },
  {
   "cell_type": "markdown",
   "id": "6d2094c0",
   "metadata": {},
   "source": [
    "### Loading our file"
   ]
  },
  {
   "cell_type": "code",
   "execution_count": null,
   "id": "b8e78a1a",
   "metadata": {},
   "outputs": [],
   "source": [
    "df = pd.read_csv('/Users/csergilo/Desktop/udemy-stats/databases/credit_data.csv')\n",
    "df.head()"
   ]
  },
  {
   "cell_type": "code",
   "execution_count": null,
   "id": "c1e53240",
   "metadata": {},
   "outputs": [],
   "source": [
    "df.shape"
   ]
  },
  {
   "cell_type": "markdown",
   "id": "7d7c0913",
   "metadata": {},
   "source": [
    "## Simple Random Sampling"
   ]
  },
  {
   "cell_type": "code",
   "execution_count": null,
   "id": "090d7096",
   "metadata": {},
   "outputs": [],
   "source": [
    "def simplerandom_sampling(dataset, n_samples):\n",
    "  return dataset.sample(n = n_samples, random_state=1)"
   ]
  },
  {
   "cell_type": "code",
   "execution_count": null,
   "id": "3724a366",
   "metadata": {},
   "outputs": [],
   "source": [
    "df_sr = simplerandom_sampling(df, 1000)\n",
    "df_sr.head()"
   ]
  },
  {
   "cell_type": "markdown",
   "id": "e91271ec",
   "metadata": {},
   "source": [
    "## Systematic Sampling"
   ]
  },
  {
   "cell_type": "code",
   "execution_count": null,
   "id": "d80d0024",
   "metadata": {},
   "outputs": [],
   "source": [
    "def systematic_sampling(dataset, n_samples):\n",
    "    \n",
    "    random.seed(1)\n",
    "    interval = len(dataset) // n_samples\n",
    "    beginning = random.randint(0, interval)\n",
    "    indices = np.arange(beginning, len(dataset), step = interval)\n",
    "    \n",
    "    return dataset.iloc[indices]"
   ]
  },
  {
   "cell_type": "code",
   "execution_count": null,
   "id": "de4c04cd",
   "metadata": {},
   "outputs": [],
   "source": [
    "df_sys = systematic_sampling(df, 1000)\n",
    "df_sys.head()"
   ]
  },
  {
   "cell_type": "markdown",
   "id": "7f21151a",
   "metadata": {},
   "source": [
    "## Cluster Sampling"
   ]
  },
  {
   "cell_type": "code",
   "execution_count": null,
   "id": "512ba913",
   "metadata": {},
   "outputs": [],
   "source": [
    "def cluster_sampling(dataset, n_groups):\n",
    "    \n",
    "    dataset['group'] = -999\n",
    "\n",
    "    step = len(dataset)/n_groups\n",
    "\n",
    "    for i in range(0,n_groups):\n",
    "\n",
    "        dataset['group'] = np.where((i*step <= dataset.index) & (dataset.index < (i+1)*step), int(i), dataset['group'])\n",
    "        \n",
    "    selected = random.randint(0, n_groups-1) # this function includes the end points\n",
    "\n",
    "    print('Selected group is: ', selected)\n",
    "    \n",
    "    return dataset[dataset['group']==selected]"
   ]
  },
  {
   "cell_type": "code",
   "execution_count": null,
   "id": "214b47bf",
   "metadata": {},
   "outputs": [],
   "source": [
    "df_clus = cluster_sampling(df, 2)\n",
    "df_clus.head()"
   ]
  },
  {
   "cell_type": "markdown",
   "id": "50fccad2",
   "metadata": {},
   "source": [
    "## Stratified Sampling"
   ]
  },
  {
   "cell_type": "code",
   "execution_count": null,
   "id": "aea60c9c",
   "metadata": {},
   "outputs": [],
   "source": [
    "def stratified_sampling(dataset, percentage, field):\n",
    "    \n",
    "    split = StratifiedShuffleSplit(test_size=percentage, random_state=1)\n",
    "    \n",
    "    for _, y in split.split(dataset, dataset[field]):\n",
    "        df_y = dataset.iloc[y]\n",
    "        \n",
    "    return df_y"
   ]
  },
  {
   "cell_type": "code",
   "execution_count": null,
   "id": "b840e197",
   "metadata": {},
   "outputs": [],
   "source": [
    "df_strat = stratified_sampling(df, 0.5, 'c#default')\n",
    "df_strat.head()"
   ]
  },
  {
   "cell_type": "markdown",
   "id": "9dc3ea77",
   "metadata": {},
   "source": [
    "## Reservoir Sampling"
   ]
  },
  {
   "cell_type": "code",
   "execution_count": null,
   "id": "5f5556b1",
   "metadata": {},
   "outputs": [],
   "source": [
    "def reservoir_sampling(dataset, n_samples):\n",
    "    \n",
    "    stream = []\n",
    "    stream = list(range(0,len(dataset)))\n",
    "\n",
    "    i = 0\n",
    "    size = len(dataset)\n",
    "\n",
    "    reservoir = [0] * n_samples\n",
    "\n",
    "    # for i in range(n_samples):\n",
    "\n",
    "    #     reservoir[i] = stream[i]\n",
    "\n",
    "    while i < size:\n",
    "\n",
    "        j = random.randrange(i + 1)\n",
    "\n",
    "        if j < n_samples:\n",
    "\n",
    "            reservoir[j] = stream[i]\n",
    "\n",
    "        i += 1\n",
    "\n",
    "    return(dataset.iloc[reservoir])\n",
    "  "
   ]
  },
  {
   "cell_type": "code",
   "execution_count": null,
   "id": "44093648",
   "metadata": {},
   "outputs": [],
   "source": [
    "df_res = reservoir_sampling(df, 1000)\n",
    "df_res.head()"
   ]
  },
  {
   "cell_type": "markdown",
   "id": "f6024f78",
   "metadata": {},
   "source": [
    "## Comparison table"
   ]
  },
  {
   "cell_type": "code",
   "execution_count": null,
   "id": "2ea88141",
   "metadata": {},
   "outputs": [],
   "source": [
    "my_dict = {'Entire Dataset': [round(df['age'].mean(),2), round(df['income'].mean(),2), round(df['loan'].mean(),2)],\n",
    "           'Simple Random': [round(df_sr['age'].mean(),2), round(df_sr['income'].mean(),2), round(df_sr['loan'].mean(),2)],\n",
    "           'Systematic': [round(df_sys['age'].mean(),2), round(df_sys['income'].mean(),2), round(df_sys['loan'].mean(),2)],\n",
    "           'Cluster': [round(df_clus['age'].mean(),2), round(df_clus['income'].mean(),2), round(df_clus['loan'].mean(),2)],\n",
    "           'Stratified': [round(df_strat['age'].mean(),2), round(df_strat['income'].mean(),2), round(df_strat['loan'].mean(),2)],\n",
    "           'Reservoir': [round(df_res['age'].mean(),2), round(df_res['income'].mean(),2), round(df_res['loan'].mean(),2)]\n",
    "          }\n",
    "    \n",
    "df_comparison = pd.DataFrame(my_dict)"
   ]
  },
  {
   "cell_type": "code",
   "execution_count": null,
   "id": "1732f1b5",
   "metadata": {},
   "outputs": [],
   "source": [
    "new_indices = pd.Series(['age mean', 'income mean', 'loan mean'])\n",
    "\n",
    "df_comparison.set_index(new_indices, inplace=True)\n",
    "\n",
    "df_comparison.head()"
   ]
  },
  {
   "cell_type": "code",
   "execution_count": null,
   "id": "cd42ebb3",
   "metadata": {},
   "outputs": [],
   "source": []
  }
 ],
 "metadata": {
  "kernelspec": {
   "display_name": "Python 3.7",
   "language": "python",
   "name": "wsd_python"
  },
  "language_info": {
   "codemirror_mode": {
    "name": "ipython",
    "version": 3
   },
   "file_extension": ".py",
   "mimetype": "text/x-python",
   "name": "python",
   "nbconvert_exporter": "python",
   "pygments_lexer": "ipython3",
   "version": "3.7.9"
  }
 },
 "nbformat": 4,
 "nbformat_minor": 5
}
